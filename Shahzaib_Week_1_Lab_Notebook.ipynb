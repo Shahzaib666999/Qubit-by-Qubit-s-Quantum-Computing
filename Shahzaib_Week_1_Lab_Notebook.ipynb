{
  "nbformat": 4,
  "nbformat_minor": 0,
  "metadata": {
    "colab": {
      "provenance": [],
      "include_colab_link": true
    },
    "kernelspec": {
      "name": "python3",
      "display_name": "Python 3"
    },
    "language_info": {
      "name": "python"
    }
  },
  "cells": [
    {
      "cell_type": "markdown",
      "metadata": {
        "id": "view-in-github",
        "colab_type": "text"
      },
      "source": [
        "<a href=\"https://colab.research.google.com/github/Shahzaib666999/Qubit-by-Qubit-s-Quantum-Computing/blob/main/Shahzaib_Week_1_Lab_Notebook.ipynb\" target=\"_parent\"><img src=\"https://colab.research.google.com/assets/colab-badge.svg\" alt=\"Open In Colab\"/></a>"
      ]
    },
    {
      "cell_type": "markdown",
      "source": [
        "# **Lab 1: Orientation**\n",
        "---\n",
        "\n",
        "### **Description**\n",
        "In this lab, we will familiarize ourselves with Google Colab.\n",
        "\n",
        "<br>\n",
        "\n",
        "### **Structure**\n",
        "**Part 1**: [Getting Familiar with Google Colab](#p1)\n",
        "\n",
        "**Part 2**: [Reading and Modifying Code](#p2)\n",
        "\n",
        "\n",
        "\n",
        "<br>\n",
        "\n",
        "### **Learning Objectives**\n",
        "By the end of this lab, we will:\n",
        "* Recognize how to use Google Colab to write and execute code.\n",
        "\n"
      ],
      "metadata": {
        "id": "K3JVwUgVElwe"
      }
    },
    {
      "cell_type": "markdown",
      "source": [
        "<a name=\"p1\"></a>\n",
        "\n",
        "---\n",
        "##**Part 1: Getting Familiar with Google Colab**\n",
        "---"
      ],
      "metadata": {
        "id": "vFusVI8O6sd-"
      }
    },
    {
      "cell_type": "markdown",
      "source": [
        "#### **Problem #1.1**\n",
        "\n",
        "**Together**, let's change the title of our notebook. Rename the notebook to \"Shahzaib_Week 1 Lab Notebook\"."
      ],
      "metadata": {
        "id": "4EgRMGgY7J-X"
      }
    },
    {
      "cell_type": "markdown",
      "source": [
        "#### **Problem #1.2**\n",
        "\n",
        "**Together**, let's create a new text cell and type: \"This is a text cell.\""
      ],
      "metadata": {
        "id": "1977NXTR78g_"
      }
    },
    {
      "cell_type": "markdown",
      "source": [
        "\"This is a tect cell\"."
      ],
      "metadata": {
        "id": "Tezd49mSn0fT"
      }
    },
    {
      "cell_type": "markdown",
      "source": [
        "#### **Problem #1.3**\n",
        "\n",
        "**Together**, let's create a new code cell and type: \"This is a code cell.\""
      ],
      "metadata": {
        "id": "7EcHRNJt8QaH"
      }
    },
    {
      "cell_type": "code",
      "source": [
        "\"This is a code cell\""
      ],
      "metadata": {
        "colab": {
          "base_uri": "https://localhost:8080/",
          "height": 35
        },
        "id": "vJ19Miz0oUOU",
        "outputId": "7cc4f568-ce51-401d-bade-23223bfd81a6"
      },
      "execution_count": 7,
      "outputs": [
        {
          "output_type": "execute_result",
          "data": {
            "text/plain": [
              "'This is a code cell'"
            ],
            "application/vnd.google.colaboratory.intrinsic+json": {
              "type": "string"
            }
          },
          "metadata": {},
          "execution_count": 7
        }
      ]
    },
    {
      "cell_type": "markdown",
      "source": [
        "#### **Problem #1.4**\n",
        "\n",
        "**Together**, let's run the code cell below."
      ],
      "metadata": {
        "id": "Lgm13Kns8Vzi"
      }
    },
    {
      "cell_type": "code",
      "source": [
        "\"Hello World!\""
      ],
      "metadata": {
        "id": "se-uUU8bE-Gn",
        "colab": {
          "base_uri": "https://localhost:8080/",
          "height": 35
        },
        "outputId": "738976b9-3999-49d7-fa43-97c031d23bcc"
      },
      "execution_count": 8,
      "outputs": [
        {
          "output_type": "execute_result",
          "data": {
            "text/plain": [
              "'Hello World!'"
            ],
            "application/vnd.google.colaboratory.intrinsic+json": {
              "type": "string"
            }
          },
          "metadata": {},
          "execution_count": 8
        }
      ]
    },
    {
      "cell_type": "markdown",
      "source": [
        "---\n",
        "\n",
        "<center>\n",
        "\n",
        "#### **Wait for Your Instructor to Continue**\n",
        "\n",
        "---"
      ],
      "metadata": {
        "id": "0EOWYdxhTiki"
      }
    },
    {
      "cell_type": "markdown",
      "source": [
        "<a name=\"p2\"></a>\n",
        "\n",
        "---\n",
        "##**Part 2: Reading and Modifying Code**\n",
        "---"
      ],
      "metadata": {
        "id": "VeQYlCX4wJ3z"
      }
    },
    {
      "cell_type": "markdown",
      "source": [
        "#### **Problem #2.1**\n",
        "\n",
        "**Together**, let's modify the value of the `color` variable so that it prints: \"My favorite color is green\""
      ],
      "metadata": {
        "id": "-tQi-Wr84P0Z"
      }
    },
    {
      "cell_type": "code",
      "source": [
        "color = 'pink'\n",
        "\n",
        "print(\"My favorite color is\", color)"
      ],
      "metadata": {
        "id": "BkJ4lcps4P0a",
        "colab": {
          "base_uri": "https://localhost:8080/"
        },
        "outputId": "3b6896bf-f38a-4b59-9e5b-3a805a81f7e8"
      },
      "execution_count": 2,
      "outputs": [
        {
          "output_type": "stream",
          "name": "stdout",
          "text": [
            "My favorite color is pink\n"
          ]
        }
      ]
    },
    {
      "cell_type": "markdown",
      "source": [
        "#### **Problem #2.2**\n",
        "\n",
        "**Together**, let's modify the code below to calculate the circumference of a circle with a radius of 10."
      ],
      "metadata": {
        "id": "dtWu62M4wJ4A"
      }
    },
    {
      "cell_type": "code",
      "source": [
        "radius = 7\n",
        "circumference = 2 * 3.14 * radius\n",
        "print(circumference)"
      ],
      "metadata": {
        "id": "_VDZteP43Ahk",
        "colab": {
          "base_uri": "https://localhost:8080/"
        },
        "outputId": "aaed2705-275b-4c58-d25d-2b47025809dc"
      },
      "execution_count": 3,
      "outputs": [
        {
          "output_type": "stream",
          "name": "stdout",
          "text": [
            "43.96\n"
          ]
        }
      ]
    },
    {
      "cell_type": "markdown",
      "source": [
        "#### **Problem #2.3**\n",
        "\n",
        "**Together**, let's modify the `name` variable so that it stores our name."
      ],
      "metadata": {
        "id": "ER5diAO04OKl"
      }
    },
    {
      "cell_type": "code",
      "source": [
        "name = 'Adam'\n",
        "print(\"My name is \" + name)"
      ],
      "metadata": {
        "id": "SbFaL4wM4OKx",
        "colab": {
          "base_uri": "https://localhost:8080/"
        },
        "outputId": "69e516e6-6e6e-4c25-bf7e-092566e57b95"
      },
      "execution_count": 4,
      "outputs": [
        {
          "output_type": "stream",
          "name": "stdout",
          "text": [
            "My name is Adam\n"
          ]
        }
      ]
    },
    {
      "cell_type": "markdown",
      "source": [
        "---\n",
        "\n",
        "#### **Now it's your turn! Try Problems #2.4 - 2.5 on your own.**\n",
        "\n",
        "---"
      ],
      "metadata": {
        "id": "i4KrGzf_5U8p"
      }
    },
    {
      "cell_type": "markdown",
      "source": [
        "#### **Problem #2.4**\n",
        "\n",
        "**Independently**, modify the value of y so that the result becomes 20."
      ],
      "metadata": {
        "id": "qX0JfaFswJ4B"
      }
    },
    {
      "cell_type": "code",
      "source": [
        "x = 10\n",
        "y = 5\n",
        "result = x + y\n",
        "print(result)"
      ],
      "metadata": {
        "id": "CG4Svia5wJ4B",
        "colab": {
          "base_uri": "https://localhost:8080/"
        },
        "outputId": "6162e8d4-aea9-407d-fc8d-af2c9ece5cd0"
      },
      "execution_count": 5,
      "outputs": [
        {
          "output_type": "stream",
          "name": "stdout",
          "text": [
            "15\n"
          ]
        }
      ]
    },
    {
      "cell_type": "markdown",
      "source": [
        "#### **Problem #2.5**\n",
        "\n",
        "**Independently**, modify the code below to calculate the area of a triangle with a base of 10 and a height of 12."
      ],
      "metadata": {
        "id": "Tye-OC_E355_"
      }
    },
    {
      "cell_type": "code",
      "source": [
        "base = 16\n",
        "height = 5\n",
        "area_of_triangle = 0.5 * base * height\n",
        "print(area_of_triangle)"
      ],
      "metadata": {
        "id": "VB362cPh356A",
        "colab": {
          "base_uri": "https://localhost:8080/"
        },
        "outputId": "09be4492-6971-4a85-89f7-7b38258aa119"
      },
      "execution_count": 6,
      "outputs": [
        {
          "output_type": "stream",
          "name": "stdout",
          "text": [
            "40.0\n"
          ]
        }
      ]
    },
    {
      "cell_type": "markdown",
      "source": [
        "#END\n",
        "---\n"
      ],
      "metadata": {
        "id": "ZjjNOmiT5bPH"
      }
    }
  ]
}