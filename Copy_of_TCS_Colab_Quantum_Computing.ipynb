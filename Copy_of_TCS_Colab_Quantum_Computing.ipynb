{
  "nbformat": 4,
  "nbformat_minor": 0,
  "metadata": {
    "colab": {
      "provenance": [],
      "collapsed_sections": [
        "8gc7YsrRFDmJ",
        "anvxJJ0gFN8V",
        "zIdPOv96FZpE",
        "nc1a83KXF3EM",
        "tAL9e2F7HAmS",
        "CRVDnGoYHXrP",
        "5AlSxGUVIDSU",
        "NEOpA2xfIgqi",
        "InKZcBW3Iz8H",
        "Efa1RY3-JPjA",
        "e98GMci-vatt",
        "DsnWrtOuwEDr",
        "Mu8YaGr1xWXY",
        "Ja34NAAWyvcB",
        "llFGjNBkWINk",
        "HZ4Imj0R2L7p",
        "3h3H85OL4B2C",
        "STw2JKCL220_",
        "fo2TyjKI4d42"
      ],
      "include_colab_link": true
    },
    "kernelspec": {
      "name": "python3",
      "display_name": "Python 3"
    },
    "language_info": {
      "name": "python"
    }
  },
  "cells": [
    {
      "cell_type": "markdown",
      "metadata": {
        "id": "view-in-github",
        "colab_type": "text"
      },
      "source": [
        "<a href=\"https://colab.research.google.com/github/Shahzaib666999/Qubit-by-Qubit-s-Quantum-Computing/blob/main/Copy_of_TCS_Colab_Quantum_Computing.ipynb\" target=\"_parent\"><img src=\"https://colab.research.google.com/assets/colab-badge.svg\" alt=\"Open In Colab\"/></a>"
      ]
    },
    {
      "cell_type": "markdown",
      "source": [
        "#Google Colab Practice\n",
        "\n",
        "---"
      ],
      "metadata": {
        "id": "K3JVwUgVElwe"
      }
    },
    {
      "cell_type": "markdown",
      "source": [
        "##**PART #1** Congratulations! Google Colab is working\n"
      ],
      "metadata": {
        "id": "Nncig8FoErJz"
      }
    },
    {
      "cell_type": "markdown",
      "source": [
        "### In the space below, click on the play button to print \"Hello World\" and confirm your colab is set up."
      ],
      "metadata": {
        "id": "uKktkGkRT_-w"
      }
    },
    {
      "cell_type": "code",
      "source": [
        "print(\"Hello World\")\n",
        "if \"Hello World\": print(\"Welcome to the world of emerging tech!\")"
      ],
      "metadata": {
        "colab": {
          "base_uri": "https://localhost:8080/"
        },
        "id": "OpuRE6RJT-GJ",
        "outputId": "f63a559b-c205-436f-980c-019b5b362970"
      },
      "execution_count": 1,
      "outputs": [
        {
          "output_type": "stream",
          "name": "stdout",
          "text": [
            "Hello World\n",
            "Welcome to the world of emerging tech!\n"
          ]
        }
      ]
    },
    {
      "cell_type": "markdown",
      "source": [
        "If you want to save this file, click on \"File\" > \"Save a Copy in Drive\""
      ],
      "metadata": {
        "id": "kqKbMecGVMP6"
      }
    },
    {
      "cell_type": "code",
      "source": [],
      "metadata": {
        "id": "lOW3VOYCjwPH"
      },
      "execution_count": null,
      "outputs": []
    }
  ]
}